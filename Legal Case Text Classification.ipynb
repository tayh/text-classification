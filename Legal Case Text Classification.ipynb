{
 "cells": [
  {
   "cell_type": "code",
   "execution_count": 122,
   "metadata": {},
   "outputs": [
    {
     "data": {
      "text/html": [
       "<div>\n",
       "<style scoped>\n",
       "    .dataframe tbody tr th:only-of-type {\n",
       "        vertical-align: middle;\n",
       "    }\n",
       "\n",
       "    .dataframe tbody tr th {\n",
       "        vertical-align: top;\n",
       "    }\n",
       "\n",
       "    .dataframe thead th {\n",
       "        text-align: right;\n",
       "    }\n",
       "</style>\n",
       "<table border=\"1\" class=\"dataframe\">\n",
       "  <thead>\n",
       "    <tr style=\"text-align: right;\">\n",
       "      <th></th>\n",
       "      <th>Status</th>\n",
       "      <th>Decisão</th>\n",
       "    </tr>\n",
       "  </thead>\n",
       "  <tbody>\n",
       "    <tr>\n",
       "      <td>0</td>\n",
       "      <td>parcialmente provido</td>\n",
       "      <td>conhecido. parcialmente provido. unanime</td>\n",
       "    </tr>\n",
       "    <tr>\n",
       "      <td>1</td>\n",
       "      <td>desprovido</td>\n",
       "      <td>conhecido. improvido. unânime</td>\n",
       "    </tr>\n",
       "    <tr>\n",
       "      <td>2</td>\n",
       "      <td>parcialmente provido</td>\n",
       "      <td>conhecido. parcialmente provido. unânime</td>\n",
       "    </tr>\n",
       "    <tr>\n",
       "      <td>3</td>\n",
       "      <td>desprovido</td>\n",
       "      <td>conhecer em parte. negar provimento. unânime</td>\n",
       "    </tr>\n",
       "    <tr>\n",
       "      <td>4</td>\n",
       "      <td>desprovido</td>\n",
       "      <td>conhecer do recurso e negar-lhe provimento. un...</td>\n",
       "    </tr>\n",
       "    <tr>\n",
       "      <td>5</td>\n",
       "      <td>provido</td>\n",
       "      <td>conhecido. provido. unânime.</td>\n",
       "    </tr>\n",
       "    <tr>\n",
       "      <td>6</td>\n",
       "      <td>desprovido</td>\n",
       "      <td>apelação da autora e recurso adesivo da ré con...</td>\n",
       "    </tr>\n",
       "    <tr>\n",
       "      <td>7</td>\n",
       "      <td>desprovido</td>\n",
       "      <td>conhecido. preliminar rejeitada. prejudicial r...</td>\n",
       "    </tr>\n",
       "    <tr>\n",
       "      <td>8</td>\n",
       "      <td>parcialmente provido</td>\n",
       "      <td>dar parcial provimento ao recurso de m.c.b.s.r...</td>\n",
       "    </tr>\n",
       "    <tr>\n",
       "      <td>9</td>\n",
       "      <td>desprovido</td>\n",
       "      <td>conhecer do recurso e negar-lhe provimento.</td>\n",
       "    </tr>\n",
       "  </tbody>\n",
       "</table>\n",
       "</div>"
      ],
      "text/plain": [
       "                 Status                                            Decisão\n",
       "0  parcialmente provido           conhecido. parcialmente provido. unanime\n",
       "1            desprovido                      conhecido. improvido. unânime\n",
       "2  parcialmente provido           conhecido. parcialmente provido. unânime\n",
       "3            desprovido       conhecer em parte. negar provimento. unânime\n",
       "4            desprovido  conhecer do recurso e negar-lhe provimento. un...\n",
       "5               provido                       conhecido. provido. unânime.\n",
       "6            desprovido  apelação da autora e recurso adesivo da ré con...\n",
       "7            desprovido  conhecido. preliminar rejeitada. prejudicial r...\n",
       "8  parcialmente provido  dar parcial provimento ao recurso de m.c.b.s.r...\n",
       "9            desprovido        conhecer do recurso e negar-lhe provimento."
      ]
     },
     "execution_count": 122,
     "metadata": {},
     "output_type": "execute_result"
    }
   ],
   "source": [
    "import pandas as pd\n",
    "\n",
    "# Loading the spam data\n",
    "# ham is the label for non-spam messages\n",
    "spam = pd.read_excel('test.xlsx')\n",
    "spam.head(10)"
   ]
  },
  {
   "cell_type": "code",
   "execution_count": 123,
   "metadata": {},
   "outputs": [],
   "source": [
    "import spacy\n",
    "nlp = spacy.blank(\"pt\")\n",
    "\n",
    "# Create the TextCategorizer with exclusive classes and \"bow\" architecture\n",
    "textcat = nlp.create_pipe(\n",
    "              \"textcat\",\n",
    "              config={\n",
    "                \"exclusive_classes\": True,\n",
    "                \"architecture\": \"bow\"})\n",
    "\n",
    "# Add the TextCategorizer to the empty model\n",
    "nlp.add_pipe(textcat)"
   ]
  },
  {
   "cell_type": "code",
   "execution_count": 124,
   "metadata": {},
   "outputs": [
    {
     "data": {
      "text/plain": [
       "1"
      ]
     },
     "execution_count": 124,
     "metadata": {},
     "output_type": "execute_result"
    }
   ],
   "source": [
    "# Add labels to text classifier\n",
    "textcat.add_label(\"provido\")\n",
    "textcat.add_label(\"desprovido\")\n",
    "textcat.add_label(\"parcialmente provido\")\n",
    "textcat.add_label(\"parcialmente improvido\")"
   ]
  },
  {
   "cell_type": "code",
   "execution_count": 125,
   "metadata": {},
   "outputs": [],
   "source": [
    "train_texts = spam['Decisão'].values\n",
    "train_labels = [{'cats': {'provido': label == 'provido',\n",
    "                          'desprovido': label == 'desprovido',\n",
    "                          'parcialmente provido': label == 'parcialmente provido',\n",
    "                          'parcialmente improvido': label == 'parcialmente improvido',\n",
    "                         }\n",
    "                } \n",
    "                for label in spam['Status']]"
   ]
  },
  {
   "cell_type": "code",
   "execution_count": 126,
   "metadata": {},
   "outputs": [
    {
     "data": {
      "text/plain": [
       "[('conhecido. parcialmente provido. unanime',\n",
       "  {'cats': {'provido': False,\n",
       "    'desprovido': False,\n",
       "    'parcialmente provido': True,\n",
       "    'parcialmente improvido': False}}),\n",
       " ('conhecido. improvido. unânime',\n",
       "  {'cats': {'provido': False,\n",
       "    'desprovido': True,\n",
       "    'parcialmente provido': False,\n",
       "    'parcialmente improvido': False}}),\n",
       " ('conhecido. parcialmente provido. unânime',\n",
       "  {'cats': {'provido': False,\n",
       "    'desprovido': False,\n",
       "    'parcialmente provido': True,\n",
       "    'parcialmente improvido': False}})]"
      ]
     },
     "execution_count": 126,
     "metadata": {},
     "output_type": "execute_result"
    }
   ],
   "source": [
    "train_data = list(zip(train_texts, train_labels))\n",
    "train_data[:3]"
   ]
  },
  {
   "cell_type": "code",
   "execution_count": 127,
   "metadata": {},
   "outputs": [],
   "source": [
    "from spacy.util import minibatch\n",
    "\n",
    "spacy.util.fix_random_seed(1)\n",
    "optimizer = nlp.begin_training()\n",
    "\n",
    "# Create the batch generator with batch size = 8\n",
    "batches = minibatch(train_data, size=8)\n",
    "# Iterate through minibatches\n",
    "for batch in batches:\n",
    "    # Each batch is a list of (text, label) but we need to\n",
    "    # send separate lists for texts and labels to update().\n",
    "    # This is a quick way to split a list of tuples into lists\n",
    "    texts, labels = zip(*batch)\n",
    "    nlp.update(texts, labels, sgd=optimizer)"
   ]
  },
  {
   "cell_type": "code",
   "execution_count": 128,
   "metadata": {},
   "outputs": [
    {
     "name": "stdout",
     "output_type": "stream",
     "text": [
      "{'textcat': 0.7647732822224498}\n",
      "{'textcat': 1.546765330247581}\n",
      "{'textcat': 2.243905583396554}\n",
      "{'textcat': 2.8919967440888286}\n",
      "{'textcat': 3.7514360398054123}\n",
      "{'textcat': 4.272939569316804}\n",
      "{'textcat': 4.974101124331355}\n",
      "{'textcat': 5.666876802220941}\n",
      "{'textcat': 6.342862875666469}\n",
      "{'textcat': 6.818926766049117}\n"
     ]
    }
   ],
   "source": [
    "import random\n",
    "\n",
    "random.seed(1)\n",
    "spacy.util.fix_random_seed(1)\n",
    "optimizer = nlp.begin_training()\n",
    "\n",
    "losses = {}\n",
    "for epoch in range(10):\n",
    "    random.shuffle(train_data)\n",
    "    # Create the batch generator with batch size = 8\n",
    "    batches = minibatch(train_data, size=8)\n",
    "    # Iterate through minibatches\n",
    "    for batch in batches:\n",
    "        # Each batch is a list of (text, label) but we need to\n",
    "        # send separate lists for texts and labels to update().\n",
    "        # This is a quick way to split a list of tuples into lists\n",
    "        texts, labels = zip(*batch)\n",
    "        nlp.update(texts, labels, sgd=optimizer, losses=losses)\n",
    "    print(losses)"
   ]
  },
  {
   "cell_type": "code",
   "execution_count": 129,
   "metadata": {},
   "outputs": [
    {
     "name": "stdout",
     "output_type": "stream",
     "text": [
      "[[0.23261581 0.427228   0.22569457 0.11446159]\n",
      " [0.27842712 0.26621705 0.23585552 0.21950027]\n",
      " [0.19843525 0.2734373  0.36695364 0.16117382]\n",
      " [0.28225625 0.2705997  0.2356218  0.2115223 ]]\n"
     ]
    }
   ],
   "source": [
    "texts = [\"conhecer do recurso e negar-lhe provimento. unânime.\", \n",
    "         \"conhecer. dar parcial improvimento. unânime\",\n",
    "         \"apelação parcialmente conhecida e parcialmente provida. unânime.\",\n",
    "         \"prover-lhe provimento\"]\n",
    "docs = [nlp.tokenizer(text) for text in texts]   \n",
    "# Use textcat to get the scores for each doc\n",
    "textcat = nlp.get_pipe('textcat')\n",
    "scores, _ = textcat.predict(docs)\n",
    "\n",
    "print(scores)"
   ]
  },
  {
   "cell_type": "code",
   "execution_count": 130,
   "metadata": {},
   "outputs": [
    {
     "name": "stdout",
     "output_type": "stream",
     "text": [
      "['desprovido', 'provido', 'parcialmente provido', 'provido']\n"
     ]
    }
   ],
   "source": [
    "# From the scores, find the label with the highest score/probability\n",
    "predicted_labels = scores.argmax(axis=1)\n",
    "print([textcat.labels[label] for label in predicted_labels])"
   ]
  },
  {
   "cell_type": "code",
   "execution_count": 135,
   "metadata": {},
   "outputs": [
    {
     "name": "stdout",
     "output_type": "stream",
     "text": [
      "6694\n"
     ]
    }
   ],
   "source": [
    "df = pd.read_excel('Dados.xlsx', index=False, usecols = [7])  \n",
    "my_texts = []\n",
    "for i in df.values.tolist():\n",
    "    my_texts.append(str(i[0]).lower())\n",
    "    \n",
    "print(len(my_texts))"
   ]
  },
  {
   "cell_type": "code",
   "execution_count": 138,
   "metadata": {},
   "outputs": [
    {
     "name": "stdout",
     "output_type": "stream",
     "text": [
      "['acolher a preliminar de ilegitimidade passiva dosegundo réu para julgar extinto o processo em relação a ele.dar parcial provimento ao recurso da primeira ré. unânime', 'conhecer e negar provimento, unânime', 'conhecer e dar parcial provimento, unânime', 'dar parcial provimento ao recurso do autor. darparcial provimento ao recurso dos réus. unânime', 'conhecer. negar provimento. unânime', 'conhecido. desprovido. unânime', 'conhecer do apelo da 2ª ré e negar provimento.conhecer em parte do apelo do autor e dar parcial provimento.unânime', 'conhecido. desprovido. unânime', 'conhecido. provido. unânime', 'conhecido. provido. unânime', 'conhecer. negar provimento. unânime', 'conhecer. dar parcial provimento. unânime', 'conhecer. dar parcial provimento. unânime', 'conhecer, rejeitar a(s) preliminar(es) e, no mérito,dar parcial provimento, unânime', 'conhecer do recurso da denunciada à lide e darparcial provimento. conhecer em parte do recurso do réudenunciado e negar provimento, unânime']\n",
      "[[0.27627942 0.31006444 0.32422465 0.08943153]\n",
      " [0.22101533 0.34878176 0.2725397  0.15766321]\n",
      " [0.23774292 0.28049195 0.2906734  0.19109176]\n",
      " [0.31043154 0.303294   0.29820666 0.08806782]\n",
      " [0.26916426 0.3636409  0.2220959  0.14509892]\n",
      " [0.28109467 0.34250665 0.21948959 0.15690908]\n",
      " [0.10485432 0.4498413  0.31524786 0.13005653]\n",
      " [0.28109467 0.34250665 0.21948959 0.15690908]\n",
      " [0.32089472 0.28687292 0.243081   0.14915131]\n",
      " [0.32089472 0.28687292 0.243081   0.14915131]\n",
      " [0.26916426 0.3636409  0.2220959  0.14509892]\n",
      " [0.29107445 0.29399565 0.23813193 0.17679802]\n",
      " [0.29107445 0.29399565 0.23813193 0.17679802]\n",
      " [0.22110072 0.23728429 0.41046023 0.13115479]\n",
      " [0.1290458  0.59824604 0.2162705  0.05643766]]\n"
     ]
    }
   ],
   "source": [
    "my_texts = my_texts[:25]\n",
    "print(my_texts)\n",
    "docs = [nlp.tokenizer(a) for a in my_texts]\n",
    "    \n",
    "# Use textcat to get the scores for each doc\n",
    "textcat = nlp.get_pipe('textcat')\n",
    "scores, _ = textcat.predict(docs)\n",
    "\n",
    "print(scores)"
   ]
  },
  {
   "cell_type": "code",
   "execution_count": 139,
   "metadata": {},
   "outputs": [
    {
     "name": "stdout",
     "output_type": "stream",
     "text": [
      "['parcialmente provido', 'desprovido', 'parcialmente provido', 'provido', 'desprovido', 'desprovido', 'desprovido', 'desprovido', 'provido', 'provido', 'desprovido', 'desprovido', 'desprovido', 'parcialmente provido', 'desprovido']\n"
     ]
    }
   ],
   "source": [
    "# From the scores, find the label with the highest score/probability\n",
    "predicted_labels = scores.argmax(axis=1)\n",
    "print([textcat.labels[label] for label in predicted_labels])"
   ]
  },
  {
   "cell_type": "code",
   "execution_count": null,
   "metadata": {},
   "outputs": [],
   "source": []
  }
 ],
 "metadata": {
  "kernelspec": {
   "display_name": "Python 3",
   "language": "python",
   "name": "python3"
  },
  "language_info": {
   "codemirror_mode": {
    "name": "ipython",
    "version": 3
   },
   "file_extension": ".py",
   "mimetype": "text/x-python",
   "name": "python",
   "nbconvert_exporter": "python",
   "pygments_lexer": "ipython3",
   "version": "3.7.4"
  }
 },
 "nbformat": 4,
 "nbformat_minor": 2
}
