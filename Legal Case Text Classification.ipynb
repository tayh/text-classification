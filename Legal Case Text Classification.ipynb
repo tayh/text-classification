{
 "cells": [
  {
   "cell_type": "code",
   "execution_count": 18,
   "metadata": {},
   "outputs": [
    {
     "data": {
      "text/html": [
       "<div>\n",
       "<style scoped>\n",
       "    .dataframe tbody tr th:only-of-type {\n",
       "        vertical-align: middle;\n",
       "    }\n",
       "\n",
       "    .dataframe tbody tr th {\n",
       "        vertical-align: top;\n",
       "    }\n",
       "\n",
       "    .dataframe thead th {\n",
       "        text-align: right;\n",
       "    }\n",
       "</style>\n",
       "<table border=\"1\" class=\"dataframe\">\n",
       "  <thead>\n",
       "    <tr style=\"text-align: right;\">\n",
       "      <th></th>\n",
       "      <th>Status</th>\n",
       "      <th>Decisão</th>\n",
       "    </tr>\n",
       "  </thead>\n",
       "  <tbody>\n",
       "    <tr>\n",
       "      <td>0</td>\n",
       "      <td>parcialmente provido</td>\n",
       "      <td>conhecido. parcialmente provido. unanime</td>\n",
       "    </tr>\n",
       "    <tr>\n",
       "      <td>1</td>\n",
       "      <td>desprovido</td>\n",
       "      <td>conhecido. improvido. unânime</td>\n",
       "    </tr>\n",
       "    <tr>\n",
       "      <td>2</td>\n",
       "      <td>parcialmente provido</td>\n",
       "      <td>conhecido. parcialmente provido. unânime</td>\n",
       "    </tr>\n",
       "    <tr>\n",
       "      <td>3</td>\n",
       "      <td>desprovido</td>\n",
       "      <td>conhecer em parte. negar provimento. unânime</td>\n",
       "    </tr>\n",
       "    <tr>\n",
       "      <td>4</td>\n",
       "      <td>desprovido</td>\n",
       "      <td>conhecer do recurso e negar-lhe provimento. un...</td>\n",
       "    </tr>\n",
       "    <tr>\n",
       "      <td>5</td>\n",
       "      <td>provido</td>\n",
       "      <td>conhecido. provido. unânime.</td>\n",
       "    </tr>\n",
       "    <tr>\n",
       "      <td>6</td>\n",
       "      <td>desprovido</td>\n",
       "      <td>apelação da autora e recurso adesivo da ré con...</td>\n",
       "    </tr>\n",
       "    <tr>\n",
       "      <td>7</td>\n",
       "      <td>desprovido</td>\n",
       "      <td>conhecido. preliminar rejeitada. prejudicial r...</td>\n",
       "    </tr>\n",
       "    <tr>\n",
       "      <td>8</td>\n",
       "      <td>parcialmente provido</td>\n",
       "      <td>dar parcial provimento ao recurso de m.c.b.s.r...</td>\n",
       "    </tr>\n",
       "    <tr>\n",
       "      <td>9</td>\n",
       "      <td>desprovido</td>\n",
       "      <td>conhecer do recurso e negar-lhe provimento.</td>\n",
       "    </tr>\n",
       "  </tbody>\n",
       "</table>\n",
       "</div>"
      ],
      "text/plain": [
       "                 Status                                            Decisão\n",
       "0  parcialmente provido           conhecido. parcialmente provido. unanime\n",
       "1            desprovido                      conhecido. improvido. unânime\n",
       "2  parcialmente provido           conhecido. parcialmente provido. unânime\n",
       "3            desprovido       conhecer em parte. negar provimento. unânime\n",
       "4            desprovido  conhecer do recurso e negar-lhe provimento. un...\n",
       "5               provido                       conhecido. provido. unânime.\n",
       "6            desprovido  apelação da autora e recurso adesivo da ré con...\n",
       "7            desprovido  conhecido. preliminar rejeitada. prejudicial r...\n",
       "8  parcialmente provido  dar parcial provimento ao recurso de m.c.b.s.r...\n",
       "9            desprovido        conhecer do recurso e negar-lhe provimento."
      ]
     },
     "execution_count": 18,
     "metadata": {},
     "output_type": "execute_result"
    }
   ],
   "source": [
    "import pandas as pd\n",
    "\n",
    "# Loading the spam data\n",
    "# ham is the label for non-spam messages\n",
    "spam = pd.read_excel('test.xlsx')\n",
    "spam.head(10)"
   ]
  },
  {
   "cell_type": "code",
   "execution_count": 20,
   "metadata": {},
   "outputs": [],
   "source": [
    "import spacy\n",
    "nlp = spacy.blank(\"pt\")\n",
    "\n",
    "# Create the TextCategorizer with exclusive classes and \"bow\" architecture\n",
    "textcat = nlp.create_pipe(\n",
    "              \"textcat\",\n",
    "              config={\n",
    "                \"exclusive_classes\": True,\n",
    "                \"architecture\": \"bow\"})\n",
    "\n",
    "# Add the TextCategorizer to the empty model\n",
    "nlp.add_pipe(textcat)"
   ]
  },
  {
   "cell_type": "code",
   "execution_count": 21,
   "metadata": {},
   "outputs": [
    {
     "data": {
      "text/plain": [
       "1"
      ]
     },
     "execution_count": 21,
     "metadata": {},
     "output_type": "execute_result"
    }
   ],
   "source": [
    "# Add labels to text classifier\n",
    "textcat.add_label(\"provido\")\n",
    "textcat.add_label(\"desprovido\")\n",
    "textcat.add_label(\"parcialmente provido\")\n",
    "textcat.add_label(\"parcialmente improvido\")"
   ]
  },
  {
   "cell_type": "code",
   "execution_count": 25,
   "metadata": {},
   "outputs": [],
   "source": [
    "train_texts = spam['Decisão'].values\n",
    "train_labels = [{'cats': {'provido': label == 'provido',\n",
    "                          'desprovido': label == 'desprovido',\n",
    "                          'parcialmente provido': label == 'parcialmente provido',\n",
    "                          'parcialmente improvido': label == 'parcialmente improvido',\n",
    "                         }\n",
    "                } \n",
    "                for label in spam['Status']]"
   ]
  },
  {
   "cell_type": "code",
   "execution_count": 28,
   "metadata": {},
   "outputs": [
    {
     "data": {
      "text/plain": [
       "[('conhecido. parcialmente provido. unanime',\n",
       "  {'cats': {'provido': False,\n",
       "    'desprovido': False,\n",
       "    'parcialmente provido': True,\n",
       "    'parcialmente improvido': False}}),\n",
       " ('conhecido. improvido. unânime',\n",
       "  {'cats': {'provido': False,\n",
       "    'desprovido': True,\n",
       "    'parcialmente provido': False,\n",
       "    'parcialmente improvido': False}}),\n",
       " ('conhecido. parcialmente provido. unânime',\n",
       "  {'cats': {'provido': False,\n",
       "    'desprovido': False,\n",
       "    'parcialmente provido': True,\n",
       "    'parcialmente improvido': False}})]"
      ]
     },
     "execution_count": 28,
     "metadata": {},
     "output_type": "execute_result"
    }
   ],
   "source": [
    "train_data = list(zip(train_texts, train_labels))\n",
    "train_data[:3]"
   ]
  },
  {
   "cell_type": "code",
   "execution_count": 29,
   "metadata": {},
   "outputs": [],
   "source": [
    "from spacy.util import minibatch\n",
    "\n",
    "spacy.util.fix_random_seed(1)\n",
    "optimizer = nlp.begin_training()\n",
    "\n",
    "# Create the batch generator with batch size = 8\n",
    "batches = minibatch(train_data, size=8)\n",
    "# Iterate through minibatches\n",
    "for batch in batches:\n",
    "    # Each batch is a list of (text, label) but we need to\n",
    "    # send separate lists for texts and labels to update().\n",
    "    # This is a quick way to split a list of tuples into lists\n",
    "    texts, labels = zip(*batch)\n",
    "    nlp.update(texts, labels, sgd=optimizer)"
   ]
  },
  {
   "cell_type": "code",
   "execution_count": 30,
   "metadata": {},
   "outputs": [
    {
     "name": "stdout",
     "output_type": "stream",
     "text": [
      "{'textcat': 0.7457376020029187}\n",
      "{'textcat': 1.571977543644607}\n",
      "{'textcat': 2.39568333607167}\n",
      "{'textcat': 2.662572581321001}\n",
      "{'textcat': 2.8466447442770004}\n",
      "{'textcat': 3.5637408513575792}\n",
      "{'textcat': 3.649692595936358}\n",
      "{'textcat': 4.426499838940799}\n",
      "{'textcat': 4.99767283257097}\n",
      "{'textcat': 5.7421208480373025}\n"
     ]
    }
   ],
   "source": [
    "import random\n",
    "\n",
    "random.seed(1)\n",
    "spacy.util.fix_random_seed(1)\n",
    "optimizer = nlp.begin_training()\n",
    "\n",
    "losses = {}\n",
    "for epoch in range(10):\n",
    "    random.shuffle(train_data)\n",
    "    # Create the batch generator with batch size = 8\n",
    "    batches = minibatch(train_data, size=8)\n",
    "    # Iterate through minibatches\n",
    "    for batch in batches:\n",
    "        # Each batch is a list of (text, label) but we need to\n",
    "        # send separate lists for texts and labels to update().\n",
    "        # This is a quick way to split a list of tuples into lists\n",
    "        texts, labels = zip(*batch)\n",
    "        nlp.update(texts, labels, sgd=optimizer, losses=losses)\n",
    "    print(losses)"
   ]
  },
  {
   "cell_type": "code",
   "execution_count": 31,
   "metadata": {},
   "outputs": [
    {
     "name": "stdout",
     "output_type": "stream",
     "text": [
      "[[0.1942342  0.39787167 0.26488912 0.14300497]\n",
      " [0.15327866 0.26527014 0.47849807 0.10295311]]\n"
     ]
    }
   ],
   "source": [
    "texts = [\"conhecer do recurso e negar-lhe provimento. unânime.\", \n",
    "         \"dar parcial provimento ao recurso de m.c.b.s.r.; conhecer parcialmente do recurso de a.a.m.i.s.a. e negar-lhe provimento. Unânime\"]\n",
    "docs = [nlp.tokenizer(text) for text in texts]\n",
    "    \n",
    "# Use textcat to get the scores for each doc\n",
    "textcat = nlp.get_pipe('textcat')\n",
    "scores, _ = textcat.predict(docs)\n",
    "\n",
    "print(scores)"
   ]
  },
  {
   "cell_type": "code",
   "execution_count": 32,
   "metadata": {},
   "outputs": [
    {
     "name": "stdout",
     "output_type": "stream",
     "text": [
      "['desprovido', 'parcialmente provido']\n"
     ]
    }
   ],
   "source": [
    "# From the scores, find the label with the highest score/probability\n",
    "predicted_labels = scores.argmax(axis=1)\n",
    "print([textcat.labels[label] for label in predicted_labels])"
   ]
  },
  {
   "cell_type": "code",
   "execution_count": null,
   "metadata": {},
   "outputs": [],
   "source": []
  }
 ],
 "metadata": {
  "kernelspec": {
   "display_name": "Python 3",
   "language": "python",
   "name": "python3"
  },
  "language_info": {
   "codemirror_mode": {
    "name": "ipython",
    "version": 3
   },
   "file_extension": ".py",
   "mimetype": "text/x-python",
   "name": "python",
   "nbconvert_exporter": "python",
   "pygments_lexer": "ipython3",
   "version": "3.7.4"
  }
 },
 "nbformat": 4,
 "nbformat_minor": 2
}
